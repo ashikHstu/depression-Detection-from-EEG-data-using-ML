{
 "cells": [
  {
   "cell_type": "code",
   "execution_count": 17,
   "id": "e25c7a7c-5a6a-4606-932e-3d181a6fa6e0",
   "metadata": {},
   "outputs": [],
   "source": [
    "import pandas as pd\n",
    "import numpy as np\n",
    "import matplotlib.pyplot as plt\n",
    "from matplotlib.pyplot import figure\n",
    "import seaborn as sns"
   ]
  },
  {
   "cell_type": "code",
   "execution_count": 2,
   "id": "16fc8fc3-af0f-4d1c-9150-a360732dad80",
   "metadata": {},
   "outputs": [
    {
     "data": {
      "text/html": [
       "<div>\n",
       "<style scoped>\n",
       "    .dataframe tbody tr th:only-of-type {\n",
       "        vertical-align: middle;\n",
       "    }\n",
       "\n",
       "    .dataframe tbody tr th {\n",
       "        vertical-align: top;\n",
       "    }\n",
       "\n",
       "    .dataframe thead th {\n",
       "        text-align: right;\n",
       "    }\n",
       "</style>\n",
       "<table border=\"1\" class=\"dataframe\">\n",
       "  <thead>\n",
       "    <tr style=\"text-align: right;\">\n",
       "      <th></th>\n",
       "      <th>no.</th>\n",
       "      <th>sex</th>\n",
       "      <th>age</th>\n",
       "      <th>eeg.date</th>\n",
       "      <th>education</th>\n",
       "      <th>IQ</th>\n",
       "      <th>main.disorder</th>\n",
       "      <th>specific.disorder</th>\n",
       "      <th>AB.A.delta.a.FP1</th>\n",
       "      <th>AB.A.delta.b.FP2</th>\n",
       "      <th>...</th>\n",
       "      <th>COH.F.gamma.o.Pz.p.P4</th>\n",
       "      <th>COH.F.gamma.o.Pz.q.T6</th>\n",
       "      <th>COH.F.gamma.o.Pz.r.O1</th>\n",
       "      <th>COH.F.gamma.o.Pz.s.O2</th>\n",
       "      <th>COH.F.gamma.p.P4.q.T6</th>\n",
       "      <th>COH.F.gamma.p.P4.r.O1</th>\n",
       "      <th>COH.F.gamma.p.P4.s.O2</th>\n",
       "      <th>COH.F.gamma.q.T6.r.O1</th>\n",
       "      <th>COH.F.gamma.q.T6.s.O2</th>\n",
       "      <th>COH.F.gamma.r.O1.s.O2</th>\n",
       "    </tr>\n",
       "  </thead>\n",
       "  <tbody>\n",
       "    <tr>\n",
       "      <th>0</th>\n",
       "      <td>1</td>\n",
       "      <td>M</td>\n",
       "      <td>57.0</td>\n",
       "      <td>2012.8.30</td>\n",
       "      <td>NaN</td>\n",
       "      <td>NaN</td>\n",
       "      <td>Addictive disorder</td>\n",
       "      <td>Alcohol use disorder</td>\n",
       "      <td>35.998557</td>\n",
       "      <td>21.717375</td>\n",
       "      <td>...</td>\n",
       "      <td>55.989192</td>\n",
       "      <td>16.739679</td>\n",
       "      <td>23.452271</td>\n",
       "      <td>45.678820</td>\n",
       "      <td>30.167520</td>\n",
       "      <td>16.918761</td>\n",
       "      <td>48.850427</td>\n",
       "      <td>9.422630</td>\n",
       "      <td>34.507082</td>\n",
       "      <td>28.613029</td>\n",
       "    </tr>\n",
       "    <tr>\n",
       "      <th>1</th>\n",
       "      <td>2</td>\n",
       "      <td>M</td>\n",
       "      <td>37.0</td>\n",
       "      <td>2012.9.6</td>\n",
       "      <td>6.0</td>\n",
       "      <td>120.0</td>\n",
       "      <td>Addictive disorder</td>\n",
       "      <td>Alcohol use disorder</td>\n",
       "      <td>13.425118</td>\n",
       "      <td>11.002916</td>\n",
       "      <td>...</td>\n",
       "      <td>45.595619</td>\n",
       "      <td>17.510824</td>\n",
       "      <td>26.777368</td>\n",
       "      <td>28.201062</td>\n",
       "      <td>57.108861</td>\n",
       "      <td>32.375401</td>\n",
       "      <td>60.351749</td>\n",
       "      <td>13.900981</td>\n",
       "      <td>57.831848</td>\n",
       "      <td>43.463261</td>\n",
       "    </tr>\n",
       "    <tr>\n",
       "      <th>2</th>\n",
       "      <td>3</td>\n",
       "      <td>M</td>\n",
       "      <td>32.0</td>\n",
       "      <td>2012.9.10</td>\n",
       "      <td>16.0</td>\n",
       "      <td>113.0</td>\n",
       "      <td>Addictive disorder</td>\n",
       "      <td>Alcohol use disorder</td>\n",
       "      <td>29.941780</td>\n",
       "      <td>27.544684</td>\n",
       "      <td>...</td>\n",
       "      <td>99.475453</td>\n",
       "      <td>70.654171</td>\n",
       "      <td>39.131547</td>\n",
       "      <td>69.920996</td>\n",
       "      <td>71.063644</td>\n",
       "      <td>38.534505</td>\n",
       "      <td>69.908764</td>\n",
       "      <td>27.180532</td>\n",
       "      <td>64.803155</td>\n",
       "      <td>31.485799</td>\n",
       "    </tr>\n",
       "    <tr>\n",
       "      <th>3</th>\n",
       "      <td>4</td>\n",
       "      <td>M</td>\n",
       "      <td>35.0</td>\n",
       "      <td>2012.10.8</td>\n",
       "      <td>18.0</td>\n",
       "      <td>126.0</td>\n",
       "      <td>Addictive disorder</td>\n",
       "      <td>Alcohol use disorder</td>\n",
       "      <td>21.496226</td>\n",
       "      <td>21.846832</td>\n",
       "      <td>...</td>\n",
       "      <td>59.986561</td>\n",
       "      <td>63.822201</td>\n",
       "      <td>36.478254</td>\n",
       "      <td>47.117006</td>\n",
       "      <td>84.658376</td>\n",
       "      <td>24.724096</td>\n",
       "      <td>50.299349</td>\n",
       "      <td>35.319695</td>\n",
       "      <td>79.822944</td>\n",
       "      <td>41.141873</td>\n",
       "    </tr>\n",
       "    <tr>\n",
       "      <th>4</th>\n",
       "      <td>5</td>\n",
       "      <td>M</td>\n",
       "      <td>36.0</td>\n",
       "      <td>2012.10.18</td>\n",
       "      <td>16.0</td>\n",
       "      <td>112.0</td>\n",
       "      <td>Addictive disorder</td>\n",
       "      <td>Alcohol use disorder</td>\n",
       "      <td>37.775667</td>\n",
       "      <td>33.607679</td>\n",
       "      <td>...</td>\n",
       "      <td>61.462720</td>\n",
       "      <td>59.166097</td>\n",
       "      <td>51.465531</td>\n",
       "      <td>58.635415</td>\n",
       "      <td>80.685608</td>\n",
       "      <td>62.138436</td>\n",
       "      <td>75.888749</td>\n",
       "      <td>61.003944</td>\n",
       "      <td>87.455509</td>\n",
       "      <td>70.531662</td>\n",
       "    </tr>\n",
       "  </tbody>\n",
       "</table>\n",
       "<p>5 rows × 1149 columns</p>\n",
       "</div>"
      ],
      "text/plain": [
       "   no. sex   age    eeg.date  education     IQ       main.disorder  \\\n",
       "0    1   M  57.0   2012.8.30        NaN    NaN  Addictive disorder   \n",
       "1    2   M  37.0    2012.9.6        6.0  120.0  Addictive disorder   \n",
       "2    3   M  32.0   2012.9.10       16.0  113.0  Addictive disorder   \n",
       "3    4   M  35.0   2012.10.8       18.0  126.0  Addictive disorder   \n",
       "4    5   M  36.0  2012.10.18       16.0  112.0  Addictive disorder   \n",
       "\n",
       "      specific.disorder  AB.A.delta.a.FP1  AB.A.delta.b.FP2  ...  \\\n",
       "0  Alcohol use disorder         35.998557         21.717375  ...   \n",
       "1  Alcohol use disorder         13.425118         11.002916  ...   \n",
       "2  Alcohol use disorder         29.941780         27.544684  ...   \n",
       "3  Alcohol use disorder         21.496226         21.846832  ...   \n",
       "4  Alcohol use disorder         37.775667         33.607679  ...   \n",
       "\n",
       "   COH.F.gamma.o.Pz.p.P4  COH.F.gamma.o.Pz.q.T6  COH.F.gamma.o.Pz.r.O1  \\\n",
       "0              55.989192              16.739679              23.452271   \n",
       "1              45.595619              17.510824              26.777368   \n",
       "2              99.475453              70.654171              39.131547   \n",
       "3              59.986561              63.822201              36.478254   \n",
       "4              61.462720              59.166097              51.465531   \n",
       "\n",
       "   COH.F.gamma.o.Pz.s.O2  COH.F.gamma.p.P4.q.T6  COH.F.gamma.p.P4.r.O1  \\\n",
       "0              45.678820              30.167520              16.918761   \n",
       "1              28.201062              57.108861              32.375401   \n",
       "2              69.920996              71.063644              38.534505   \n",
       "3              47.117006              84.658376              24.724096   \n",
       "4              58.635415              80.685608              62.138436   \n",
       "\n",
       "   COH.F.gamma.p.P4.s.O2  COH.F.gamma.q.T6.r.O1  COH.F.gamma.q.T6.s.O2  \\\n",
       "0              48.850427               9.422630              34.507082   \n",
       "1              60.351749              13.900981              57.831848   \n",
       "2              69.908764              27.180532              64.803155   \n",
       "3              50.299349              35.319695              79.822944   \n",
       "4              75.888749              61.003944              87.455509   \n",
       "\n",
       "   COH.F.gamma.r.O1.s.O2  \n",
       "0              28.613029  \n",
       "1              43.463261  \n",
       "2              31.485799  \n",
       "3              41.141873  \n",
       "4              70.531662  \n",
       "\n",
       "[5 rows x 1149 columns]"
      ]
     },
     "execution_count": 2,
     "metadata": {},
     "output_type": "execute_result"
    }
   ],
   "source": [
    "data = pd.read_csv('EEG.machinelearing_data_BRMH.csv')\n",
    "data.head()\n"
   ]
  },
  {
   "cell_type": "code",
   "execution_count": 4,
   "id": "a712a311-9290-4a59-a78b-d027f0015f91",
   "metadata": {},
   "outputs": [
    {
     "data": {
      "text/plain": [
       "array(['Addictive disorder', 'Trauma and stress related disorder',\n",
       "       'Mood disorder', 'Healthy control',\n",
       "       'Obsessive compulsive disorder', 'Schizophrenia',\n",
       "       'Anxiety disorder'], dtype=object)"
      ]
     },
     "execution_count": 4,
     "metadata": {},
     "output_type": "execute_result"
    }
   ],
   "source": [
    "data['main.disorder'].unique()"
   ]
  },
  {
   "cell_type": "code",
   "execution_count": 16,
   "id": "9362ab8e-d088-4076-8ac8-738a30970dbb",
   "metadata": {},
   "outputs": [
    {
     "data": {
      "image/png": "[encoded data removed]",
      "text/plain": [
       "<Figure size 864x432 with 1 Axes>"
      ]
     },
     "metadata": {
      "needs_background": "light"
     },
     "output_type": "display_data"
    }
   ],
   "source": [
    "plt.figure(figsize=(12, 6))\n",
    "\n",
    "# title\n",
    "plt.title('Psychiatric Disorders Data')\n",
    "\n",
    "# xlabel\n",
    "plt.xlabel('Different Disorders')\n",
    "\n",
    "# ylabel\n",
    "plt.ylabel('Subject Quantity')\n",
    "\n",
    "# plot histogram\n",
    "plt.hist(data['main.disorder'], bins=16, color='lightblue');\n",
    "\n",
    "xticks_labels = ['Addictive', 'Trauma and stress', 'Mood', 'Healthy control', 'Obsessive compulsive', 'Schizophrenia', 'Anxiety']\n",
    "plt.xticks(range(0, len(xticks_labels)), xticks_labels)\n",
    "\n",
    "plt.show()"
   ]
  },
  {
   "cell_type": "code",
   "execution_count": 24,
   "id": "2d21fa33-6362-444f-9011-2ba3220d3e44",
   "metadata": {},
   "outputs": [
    {
     "data": {
      "text/plain": [
       "<AxesSubplot:xlabel='main.disorder', ylabel='no.'>"
      ]
     },
     "execution_count": 24,
     "metadata": {},
     "output_type": "execute_result"
    },
    {
     "data": {
      "image/png": "[encoded data removed]",
      "text/plain": [
       "<Figure size 1080x595.44 with 1 Axes>"
      ]
     },
     "metadata": {},
     "output_type": "display_data"
    }
   ],
   "source": [
    "sns.set(rc={'figure.figsize':(15,8.27)})\n",
    "\n",
    "sns.barplot(x=\"main.disorder\", y=\"no.\", data=data[:])"
   ]
  },
  {
   "cell_type": "code",
   "execution_count": 27,
   "id": "e526a21b-a6ce-413f-a685-ecea1ba93115",
   "metadata": {},
   "outputs": [],
   "source": [
    "# sns.distplot(data['main.disorder'])"
   ]
  },
  {
   "cell_type": "code",
   "execution_count": null,
   "id": "f87cc344-7a07-4a4b-b61d-b62442f9f188",
   "metadata": {},
   "outputs": [],
   "source": []
  }
 ],
 "metadata": {
  "kernelspec": {
   "display_name": "Python 3 (ipykernel)",
   "language": "python",
   "name": "python3"
  },
  "language_info": {
   "codemirror_mode": {
    "name": "ipython",
    "version": 3
   },
   "file_extension": ".py",
   "mimetype": "text/x-python",
   "name": "python",
   "nbconvert_exporter": "python",
   "pygments_lexer": "ipython3",
   "version": "3.9.12"
  }
 },
 "nbformat": 4,
 "nbformat_minor": 5
}
